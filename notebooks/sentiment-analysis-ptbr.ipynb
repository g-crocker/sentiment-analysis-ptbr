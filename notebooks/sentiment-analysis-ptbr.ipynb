{
 "cells": [
  {
   "cell_type": "code",
   "execution_count": null,
   "metadata": {
    "_cell_guid": "6f03ca1a-3c0e-4e33-9ba6-91a9d640185f",
    "_uuid": "2840dd041b764e287b641cc8308c68c520796d9b"
   },
   "outputs": [],
   "source": [
    "from joblib import dump, load\n",
    "import pandas as pd\n",
    "from sklearn.feature_extraction.text import CountVectorizer\n",
    "from sklearn.naive_bayes import MultinomialNB\n",
    "from sklearn.pipeline import Pipeline\n",
    "from sklearn.model_selection import cross_val_predict\n",
    "from sklearn import metrics"
   ]
  },
  {
   "cell_type": "code",
   "execution_count": null,
   "metadata": {
    "_cell_guid": "f1f48f72-4db1-4734-8723-9ef52aedc7b0",
    "_uuid": "7b761277e1b96610ba67f19b27b52d6658acd2bb"
   },
   "outputs": [],
   "source": [
    "dataset = pd.read_csv('../data/tweets.csv',encoding='utf-8')\n",
    "dataset.count()"
   ]
  },
  {
   "cell_type": "code",
   "execution_count": null,
   "metadata": {
    "_cell_guid": "978a0209-71be-443d-8748-88f7c1cef6c5",
    "_uuid": "7c04a528851a3fa57b89a1ad33826456a423e7f0"
   },
   "outputs": [],
   "source": [
    "dataset.head()"
   ]
  },
  {
   "cell_type": "code",
   "execution_count": null,
   "metadata": {
    "_cell_guid": "eca2a77a-f355-41c5-ad4a-dfbe32af62f4",
    "_uuid": "0b90c933012a38041e975f66a60f377915b92112",
    "scrolled": true
   },
   "outputs": [],
   "source": [
    "tweets = dataset[\"Text\"].values\n",
    "tweets"
   ]
  },
  {
   "cell_type": "code",
   "execution_count": null,
   "metadata": {
    "_cell_guid": "69e04867-3f0f-47d2-88f5-df2127042d1b",
    "_uuid": "866709548dc8dabc53c1c758f0bfdf410182a19d"
   },
   "outputs": [],
   "source": [
    "classes = dataset[\"Classificacao\"].values\n",
    "classes"
   ]
  },
  {
   "cell_type": "code",
   "execution_count": null,
   "metadata": {},
   "outputs": [],
   "source": [
    "testes = [\"Esse governo está no início, vamos ver o que vai dar\",\n",
    "          \"Estou muito feliz com o governo de São Paulo esse ano\",\n",
    "          \"O estado de Minas Gerais decretou calamidade financeira!!!\",\n",
    "          \"A segurança desse país está deixando a desejar\",\n",
    "          \"O governador de Minas é do PT\",\n",
    "          \"O prefeito de São Paulo está fazendo um ótimo trabalho\"]\n",
    "sentimentos = [\"Positivo\", \"Negativo\", \"Neutro\"]"
   ]
  },
  {
   "cell_type": "code",
   "execution_count": null,
   "metadata": {
    "_cell_guid": "007fbaef-b5d0-4fd7-92cc-2583ba668179",
    "_uuid": "a376262987475125694411ecb7e129f07e84e8f3"
   },
   "outputs": [],
   "source": [
    "vectorizer = CountVectorizer(analyzer = \"word\")\n",
    "freq_tweets = vectorizer.fit_transform(tweets)\n",
    "\n",
    "modelo = MultinomialNB()\n",
    "modelo.fit(freq_tweets, classes)"
   ]
  },
  {
   "cell_type": "code",
   "execution_count": null,
   "metadata": {
    "_cell_guid": "455dcddd-6b44-4a28-97c3-fa08f0fee171",
    "_uuid": "68bc8d6fc38abf056dca0a39b687d1c381f8fd25"
   },
   "outputs": [],
   "source": [
    "freq_testes = vectorizer.transform(testes)\n",
    "modelo.predict(freq_testes)"
   ]
  },
  {
   "cell_type": "code",
   "execution_count": null,
   "metadata": {
    "_cell_guid": "6afb7e0c-ce1c-497b-8f2f-02b75587954e",
    "_uuid": "7cff21dfc9bb07fbce32ab78ed3073b13bdc021b"
   },
   "outputs": [],
   "source": [
    "resultados = cross_val_predict(modelo, freq_tweets, classes, cv = 10)\n",
    "resultados"
   ]
  },
  {
   "cell_type": "code",
   "execution_count": null,
   "metadata": {
    "_cell_guid": "b6b63681-0961-4da4-bd40-3c73cf0884cd",
    "_uuid": "e8eb430cb4d6449c8f173c27fbac4fc4ec711bb3"
   },
   "outputs": [],
   "source": [
    "metrics.accuracy_score(classes, resultados)"
   ]
  },
  {
   "cell_type": "code",
   "execution_count": null,
   "metadata": {
    "_cell_guid": "a2b917b7-da10-4403-b0a7-f6f88897e29d",
    "_uuid": "1fb21da856cc6c4ee65f7daa95137dcdfbb51c0d"
   },
   "outputs": [],
   "source": [
    "print(metrics.classification_report(classes, resultados))"
   ]
  },
  {
   "cell_type": "code",
   "execution_count": null,
   "metadata": {
    "_cell_guid": "ffda64a4-e0cf-443c-bb53-a1a6f2024ae1",
    "_uuid": "aaa2cc41ea529a09c8a3c8fe504457b02769ea59"
   },
   "outputs": [],
   "source": [
    "print(pd.crosstab(classes, resultados, rownames = [\"Real\"], colnames=[\"Predito\"], margins=True))"
   ]
  },
  {
   "cell_type": "code",
   "execution_count": null,
   "metadata": {},
   "outputs": [],
   "source": [
    "pipe = Pipeline([(\"vectorizer\", vectorizer), (\"model\", modelo)])\n",
    "dump(pipe, \"sentiments-v1.joblib\")"
   ]
  },
  {
   "cell_type": "code",
   "execution_count": null,
   "metadata": {
    "_cell_guid": "8dfc7e26-78fe-4233-89db-3795d4c360bd",
    "_uuid": "c4db254fe1fa38a0d05067708d37e65f007eb118"
   },
   "outputs": [],
   "source": [
    "vectorizer = CountVectorizer(ngram_range = (1, 2))\n",
    "freq_tweets = vectorizer.fit_transform(tweets)\n",
    "\n",
    "modelo = MultinomialNB()\n",
    "modelo.fit(freq_tweets, classes)"
   ]
  },
  {
   "cell_type": "code",
   "execution_count": null,
   "metadata": {
    "_cell_guid": "e918cdc1-a49c-4868-9218-047af413b4c5",
    "_uuid": "a6b6fe306e4a46b24150f858d88fa9b49bb58575"
   },
   "outputs": [],
   "source": [
    "resultados = cross_val_predict(modelo, freq_tweets, classes, cv = 10)\n",
    "resultados"
   ]
  },
  {
   "cell_type": "code",
   "execution_count": null,
   "metadata": {
    "_cell_guid": "eeac7ad5-01ee-495b-b014-a3cbeda59abc",
    "_uuid": "89647d6fedfb0d600c4d32bda31a95a4b7e6c83a"
   },
   "outputs": [],
   "source": [
    "metrics.accuracy_score(classes, resultados)"
   ]
  },
  {
   "cell_type": "code",
   "execution_count": null,
   "metadata": {
    "_cell_guid": "ac06ba72-6bd4-41c7-8175-e1604f179ee5",
    "_uuid": "3ae3973a12114a23096b0d35dfa298c36340a901"
   },
   "outputs": [],
   "source": [
    "print(metrics.classification_report(classes, resultados))"
   ]
  },
  {
   "cell_type": "code",
   "execution_count": null,
   "metadata": {
    "_cell_guid": "6ba7bd8e-30ea-42dc-929e-39bfc54ed323",
    "_uuid": "fcddb076247e620c096b02b7d5562a63d14c79ec"
   },
   "outputs": [],
   "source": [
    "print(pd.crosstab(classes, resultados, rownames = [\"Real\"], colnames = [\"Predito\"], margins = True))"
   ]
  },
  {
   "cell_type": "code",
   "execution_count": null,
   "metadata": {},
   "outputs": [],
   "source": [
    "pipe = Pipeline([(\"vectorizer\", vectorizer), (\"model\", modelo)])\n",
    "dump(pipe, \"sentiments-v2.joblib\")"
   ]
  },
  {
   "cell_type": "code",
   "execution_count": null,
   "metadata": {},
   "outputs": [],
   "source": []
  }
 ],
 "metadata": {
  "kernelspec": {
   "display_name": "Python 3 (ipykernel)",
   "language": "python",
   "name": "python3"
  },
  "language_info": {
   "codemirror_mode": {
    "name": "ipython",
    "version": 3
   },
   "file_extension": ".py",
   "mimetype": "text/x-python",
   "name": "python",
   "nbconvert_exporter": "python",
   "pygments_lexer": "ipython3",
   "version": "3.7.9"
  }
 },
 "nbformat": 4,
 "nbformat_minor": 1
}
